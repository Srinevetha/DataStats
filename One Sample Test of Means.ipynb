{
 "cells": [
  {
   "cell_type": "markdown",
   "metadata": {},
   "source": [
    "# Objective"
   ]
  },
  {
   "cell_type": "markdown",
   "metadata": {},
   "source": [
    "Learn how to perform One Sample Hypothesis Testing using Parametric & Non Parametric methods with the help of Scipy package. The following steps are to be followed for solving a On Sample Test of Means problem.\n",
    "\n",
    "#### 1. Formulate the Null and Alternate Hypothesis\n",
    "\n",
    "For example, if you are working at a Piston Manufacturing plant and would like to test the quality of manufactured Pistons by observing the average diameter size of pistons is 20cm. The Null hypothesis would be \n",
    "\n",
    "H0 : Population Mean of piston's diameter = 20 cm\n",
    "\n",
    "and the Alternate Hypothesis would be\n",
    "\n",
    "H1 : Population Mean of piston's diameter is NOT EQUAL TO 20 cm\n",
    "\n",
    "#### 2. Collect the sample data for the above Hypothesis and verify if the sample follows a Normal Distribution.\n",
    "\n",
    "If the Data follows a Normal Distribution, then we could solve the problem using a Parametric One Sample test such as the Student's t-test. Else, we would require the Wilcoxon Test which is better suited for Non Normal Distributions of data.\n",
    "\n",
    "#### 3. Run the appropriate test (Parametric vs Non Parametric) and observe the p-value of the same.\n",
    "\n",
    "If p-value >= significance level (generally set at 0.05) , then we would fail to reject the H0\n",
    "\n",
    "Alternatively, if p-value < significance level (generally set at 0.05) , then we could reject the H0 and prove the H1\n",
    "\n"
   ]
  },
  {
   "cell_type": "markdown",
   "metadata": {},
   "source": [
    "### Business Problem"
   ]
  },
  {
   "cell_type": "markdown",
   "metadata": {},
   "source": [
    "1. Suppose the average annual rainfall for the local area was previously known to be 5 inches. A local Weather Reporter believes there was above average rainfall from 2000 thru 2019 and argues that the average annual rainfall during this period was significantly different from the overall average annual rainfall of 5 inches. The average annual rainfall recorded from 2000 thru 2019 are given below."
   ]
  },
  {
   "cell_type": "markdown",
   "metadata": {},
   "source": [
    "Null Hypothesis H0 : Population mean rainfall = 5\n",
    "    \n",
    "Alternate Hypothesis H1 : Population mean rainfall > 5"
   ]
  },
  {
   "cell_type": "markdown",
   "metadata": {},
   "source": [
    "# Load Data"
   ]
  },
  {
   "cell_type": "code",
   "execution_count": 1,
   "metadata": {},
   "outputs": [],
   "source": [
    "import numpy as np\n",
    "\n",
    "raw = np.array([[2000,8],\n",
    "[2001,2],\n",
    "[2002,5],\n",
    "[2003,4],\n",
    "[2004,7],\n",
    "[2005,4],\n",
    "[2006,8],\n",
    "[2007,3],\n",
    "[2008,4],\n",
    "[2009,5],\n",
    "[2010,9],\n",
    "[2011,2],\n",
    "[2012,5],\n",
    "[2013,4],\n",
    "[2014,5],\n",
    "[2015,3],\n",
    "[2016,3],\n",
    "[2017,5],\n",
    "[2018,3],\n",
    "[2019,4]])\n",
    "\n",
    "data = raw[:,1]"
   ]
  },
  {
   "cell_type": "code",
   "execution_count": 2,
   "metadata": {},
   "outputs": [
    {
     "data": {
      "text/plain": [
       "array([8, 2, 5, 4, 7, 4, 8, 3, 4, 5, 9, 2, 5, 4, 5, 3, 3, 5, 3, 4])"
      ]
     },
     "execution_count": 2,
     "metadata": {},
     "output_type": "execute_result"
    }
   ],
   "source": [
    "data"
   ]
  },
  {
   "cell_type": "markdown",
   "metadata": {},
   "source": [
    "### Verify Normality Assumption using a histogram - OPTION 1"
   ]
  },
  {
   "cell_type": "code",
   "execution_count": 3,
   "metadata": {},
   "outputs": [
    {
     "data": {
      "text/plain": [
       "<matplotlib.axes._subplots.AxesSubplot at 0x223c3c539c8>"
      ]
     },
     "execution_count": 3,
     "metadata": {},
     "output_type": "execute_result"
    },
    {
     "data": {
      "image/png": "[encoded data removed]",
      "text/plain": [
       "<Figure size 432x288 with 1 Axes>"
      ]
     },
     "metadata": {
      "needs_background": "light"
     },
     "output_type": "display_data"
    }
   ],
   "source": [
    "import seaborn as sns\n",
    "\n",
    "# Look at a histogram\n",
    "\n",
    "sns.distplot(data)"
   ]
  },
  {
   "cell_type": "markdown",
   "metadata": {},
   "source": [
    "### Analyze the Normality of data using a Shapiro's test - OPTION 2\n",
    "\n",
    "The Null & Alternate Hypothesis of Shapiro's test\n",
    "\n",
    "H0 : Data is Normal\n",
    "    \n",
    "H1 : Data is Non Normal"
   ]
  },
  {
   "cell_type": "code",
   "execution_count": 4,
   "metadata": {},
   "outputs": [],
   "source": [
    "from scipy.stats import shapiro"
   ]
  },
  {
   "cell_type": "code",
   "execution_count": 5,
   "metadata": {},
   "outputs": [],
   "source": [
    "w_stat , pvalue = shapiro(data)"
   ]
  },
  {
   "cell_type": "code",
   "execution_count": 6,
   "metadata": {},
   "outputs": [
    {
     "data": {
      "text/plain": [
       "0.035429276525974274"
      ]
     },
     "execution_count": 6,
     "metadata": {},
     "output_type": "execute_result"
    }
   ],
   "source": [
    "pvalue"
   ]
  },
  {
   "cell_type": "markdown",
   "metadata": {},
   "source": [
    "Both the histogram & shapiro's test pvalue confirm that <b>DATA IS NOT NORMAL</b>\n",
    "\n",
    "Hence, we will follow Non Parametric approach for testing the means"
   ]
  },
  {
   "cell_type": "markdown",
   "metadata": {},
   "source": [
    "# Modeling"
   ]
  },
  {
   "cell_type": "markdown",
   "metadata": {},
   "source": [
    "### Importing wilcoxon function for Non Parametric analysis"
   ]
  },
  {
   "cell_type": "code",
   "execution_count": 7,
   "metadata": {},
   "outputs": [],
   "source": [
    "from scipy.stats import wilcoxon"
   ]
  },
  {
   "cell_type": "code",
   "execution_count": 8,
   "metadata": {},
   "outputs": [],
   "source": [
    "stat, pvalue = wilcoxon (data - 5, alternative=\"greater\")"
   ]
  },
  {
   "cell_type": "code",
   "execution_count": 9,
   "metadata": {},
   "outputs": [
    {
     "data": {
      "text/plain": [
       "0.7544405747596636"
      ]
     },
     "execution_count": 9,
     "metadata": {},
     "output_type": "execute_result"
    }
   ],
   "source": [
    "pvalue"
   ]
  },
  {
   "cell_type": "markdown",
   "metadata": {},
   "source": [
    "##### Please note - Wilcoxon test from Scipy is generally used for Non-Parametric paired 2 sample test problems. However, by subtracting the population mean from the sample data, we are creating a workaround to use this function also for a on sample Non Parametric test."
   ]
  },
  {
   "cell_type": "markdown",
   "metadata": {},
   "source": [
    "We <b>fail to reject the Null Hypothesis</b> that the Population mean = 5 inches since our p value is greater than significance at 0.05"
   ]
  },
  {
   "cell_type": "markdown",
   "metadata": {},
   "source": [
    "### Bonus Section"
   ]
  },
  {
   "cell_type": "markdown",
   "metadata": {},
   "source": [
    "If the data had been Normal and we had to run a Parametric test on the data, the code to be run is as follows"
   ]
  },
  {
   "cell_type": "code",
   "execution_count": 10,
   "metadata": {},
   "outputs": [
    {
     "data": {
      "text/plain": [
       "0.43916384972371414"
      ]
     },
     "execution_count": 10,
     "metadata": {},
     "output_type": "execute_result"
    }
   ],
   "source": [
    "from scipy.stats import ttest_1samp\n",
    "\n",
    "t_stat , pvalue = ttest_1samp(data, 5)\n",
    "\n",
    "pvalue"
   ]
  },
  {
   "cell_type": "markdown",
   "metadata": {},
   "source": [
    "The Parametric test also fails to reject the Null Hypothesis of our model."
   ]
  }
 ],
 "metadata": {
  "kernelspec": {
   "display_name": "Python 3",
   "language": "python",
   "name": "python3"
  },
  "language_info": {
   "codemirror_mode": {
    "name": "ipython",
    "version": 3
   },
   "file_extension": ".py",
   "mimetype": "text/x-python",
   "name": "python",
   "nbconvert_exporter": "python",
   "pygments_lexer": "ipython3",
   "version": "3.7.6"
  },
  "toc": {
   "base_numbering": 1,
   "nav_menu": {
    "height": "438px",
    "width": "495px"
   },
   "number_sections": true,
   "sideBar": true,
   "skip_h1_title": false,
   "title_cell": "Table of Contents",
   "title_sidebar": "Project Workflow",
   "toc_cell": true,
   "toc_position": {
    "height": "calc(100% - 180px)",
    "left": "10px",
    "top": "150px",
    "width": "165px"
   },
   "toc_section_display": true,
   "toc_window_display": true
  }
 },
 "nbformat": 4,
 "nbformat_minor": 2
}
